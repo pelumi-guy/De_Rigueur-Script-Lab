{
 "cells": [
  {
   "cell_type": "code",
   "execution_count": 36,
   "metadata": {},
   "outputs": [
    {
     "data": {
      "text/plain": [
       "88917633000"
      ]
     },
     "execution_count": 36,
     "metadata": {},
     "output_type": "execute_result"
    }
   ],
   "source": [
    "import random\n",
    "\n",
    "def adjustPrice(price):\n",
    "    if price < 1_000_000_000:\n",
    "        adjustment = round((random.randint(-2, 2) * random.random()), 3)\n",
    "\n",
    "        mil_price = price / 1_000_000\n",
    "        new_mil_price = mil_price + adjustment\n",
    "\n",
    "        return int(new_mil_price * 1_000_000)\n",
    "    else:\n",
    "        adjustment = round((random.randint(-2, 2) * random.random()), 6)\n",
    "\n",
    "        bil_price = price / 1_000_000_000\n",
    "        new_bil_price = bil_price + adjustment\n",
    "\n",
    "        return int(new_bil_price * 1_000_000_000)\n",
    "\n",
    "r = adjustPrice(89_000_000_000)\n",
    "\n",
    "r\n",
    "\n"
   ]
  }
 ],
 "metadata": {
  "kernelspec": {
   "display_name": "Python 3",
   "language": "python",
   "name": "python3"
  },
  "language_info": {
   "codemirror_mode": {
    "name": "ipython",
    "version": 3
   },
   "file_extension": ".py",
   "mimetype": "text/x-python",
   "name": "python",
   "nbconvert_exporter": "python",
   "pygments_lexer": "ipython3",
   "version": "3.12.3"
  }
 },
 "nbformat": 4,
 "nbformat_minor": 2
}
